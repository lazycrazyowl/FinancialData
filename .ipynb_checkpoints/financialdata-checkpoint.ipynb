{
 "cells": [
  {
   "cell_type": "code",
   "execution_count": 467,
   "metadata": {
    "collapsed": false
   },
   "outputs": [],
   "source": [
    "using Requests\n",
    "using DataFrames\n",
    "using TimeSeries\n",
    "using MarketTechnicals\n",
    "using PyPlot"
   ]
  },
  {
   "cell_type": "code",
   "execution_count": 468,
   "metadata": {
    "collapsed": false
   },
   "outputs": [
    {
     "name": "stderr",
     "output_type": "stream",
     "text": [
      "WARNING: Method definition getcsv(Any) in module Main at In[414]:3 overwritten at In[468]:3.\n",
      "WARNING: Method definition yahoo(Any) in module Main at In[414]:11 overwritten at In[468]:11.\n",
      "WARNING: Method definition quandl(Any) in module Main at In[414]:23 overwritten at In[468]:23.\n"
     ]
    },
    {
     "data": {
      "text/plain": [
       "quandl (generic function with 1 method)"
      ]
     },
     "execution_count": 468,
     "metadata": {},
     "output_type": "execute_result"
    }
   ],
   "source": [
    "function getcsv(url)\n",
    "    # with error checking\n",
    "    r = Requests.get_streaming(url; timeout = 30.0)\n",
    "    if r.response.status / 100 != 2\n",
    "        error(\"Error downloading data\")\n",
    "    end\n",
    "    df = readtable(r)\n",
    "end\n",
    "\n",
    "function yahoo(url)\n",
    "    df = getcsv(url)\n",
    "    timestamp = Date[Date(i) for i in df[1]] # parse dates\n",
    "    colnames=AbstractString[string(i) for i in DataFrames.names(df)]\n",
    "    if length(colnames)>=7\n",
    "        pop!(colnames)\n",
    "        deleteat!(colnames,1)\n",
    "    end\n",
    "    dataarray=convert(Array, df[1:end,[2,3,4,7,6]])\n",
    "    ta=TimeArray(timestamp,dataarray,colnames)\n",
    "end\n",
    "\n",
    "function quandl(url)\n",
    "    df = getcsv(url)\n",
    "    timestamp = Date[Date(i) for i in df[1]] # parse dates\n",
    "    colnames=AbstractString[string(i) for i in DataFrames.names(df)]\n",
    "    if length(colnames)>=6\n",
    "        deleteat!(colnames,1)\n",
    "    end\n",
    "    dataarray=convert(Array, df[2:end])\n",
    "    ta=TimeArray(timestamp,dataarray,colnames)\n",
    "end"
   ]
  },
  {
   "cell_type": "code",
   "execution_count": 469,
   "metadata": {
    "collapsed": false
   },
   "outputs": [
    {
     "name": "stderr",
     "output_type": "stream",
     "text": [
      "WARNING: Method definition averagetruerange(Any) in module Main at In[415]:2 overwritten at In[469]:2.\n",
      "WARNING: Method definition averagetruerange(Any, Any) in module Main at In[415]:2 overwritten at In[469]:2.\n",
      "WARNING: Method definition averagetruerange(Any, Any, Any) in module Main at In[415]:2 overwritten at In[469]:2.\n",
      "WARNING: Method definition averagetruerange(Any, Any, Any, Any) in module Main at In[415]:2 overwritten at In[469]:2.\n",
      "WARNING: Method definition averagetruerange(Any, Any, Any, Any, Any) in module Main at In[415]:2 overwritten at In[469]:2.\n"
     ]
    },
    {
     "data": {
      "text/plain": [
       "averagetruerange (generic function with 5 methods)"
      ]
     },
     "execution_count": 469,
     "metadata": {},
     "output_type": "execute_result"
    }
   ],
   "source": [
    "function averagetruerange(ohlc, n=14, h=\"High\", l=\"Low\", c=\"Close\")\n",
    "    highs = merge(ohlc[h], lag(ohlc[c]))\n",
    "    lows = merge(ohlc[l], lag(ohlc[c]))\n",
    "    hi=convert(Array{Real,1},[maximum(highs.values[i,:]) for i=1:size(highs.values)[1]])\n",
    "    lo=convert(Array{Real,1},[minimum(lows.values[i,:]) for i=1:size(lows.values)[1]])\n",
    "    truehigh = TimeArray(highs.timestamp, hi, [\"hi\"], highs.meta)\n",
    "    truelow  = TimeArray(lows.timestamp, lo, [\"lo\"], lows.meta)\n",
    "    res = ema(truehigh .- truelow, n, wilder=true)\n",
    "    TimeArray(res.timestamp, res.values, [\"atr\"], ohlc.meta)\n",
    "end"
   ]
  },
  {
   "cell_type": "code",
   "execution_count": 470,
   "metadata": {
    "collapsed": false
   },
   "outputs": [
    {
     "name": "stderr",
     "output_type": "stream",
     "text": [
      "WARNING: Method definition macd2(Any) in module Main at In[416]:2 overwritten at In[470]:2.\n",
      "WARNING: Method definition macd2(Any, Any) in module Main at In[416]:2 overwritten at In[470]:2.\n",
      "WARNING: Method definition macd2(Any, Any, Any) in module Main at In[416]:2 overwritten at In[470]:2.\n",
      "WARNING: Method definition macd2(Any, Any, Any, Any) in module Main at In[416]:2 overwritten at In[470]:2.\n"
     ]
    },
    {
     "data": {
      "text/plain": [
       "macd2 (generic function with 4 methods)"
      ]
     },
     "execution_count": 470,
     "metadata": {},
     "output_type": "execute_result"
    }
   ],
   "source": [
    "function macd2(ta, fast=12, slow=26, signal=9)\n",
    "    mcd = ema(ta, fast) .- ema(ta, slow)\n",
    "    sig = ema(mcd, signal)\n",
    "    merge(mcd, sig, col_names=[\"macd\", \"signal\"])\n",
    "end"
   ]
  },
  {
   "cell_type": "code",
   "execution_count": 471,
   "metadata": {
    "collapsed": false
   },
   "outputs": [
    {
     "name": "stderr",
     "output_type": "stream",
     "text": [
      "WARNING: Method definition moneyflowindex(Any) in module Main at In[417]:2 overwritten at In[471]:2.\n",
      "WARNING: Method definition moneyflowindex(Any, Any) in module Main at In[417]:2 overwritten at In[471]:2.\n",
      "WARNING: Method definition moneyflowindex(Any, Any, Any) in module Main at In[417]:2 overwritten at In[471]:2.\n",
      "WARNING: Method definition moneyflowindex(Any, Any, Any, Any) in module Main at In[417]:2 overwritten at In[471]:2.\n",
      "WARNING: Method definition moneyflowindex(Any, Any, Any, Any, Any) in module Main at In[417]:2 overwritten at In[471]:2.\n",
      "WARNING: Method definition moneyflowindex(Any, Any, Any, Any, Any, Any) in module Main at In[417]:2 overwritten at In[471]:2.\n"
     ]
    },
    {
     "data": {
      "text/plain": [
       "moneyflowindex (generic function with 6 methods)"
      ]
     },
     "execution_count": 471,
     "metadata": {},
     "output_type": "execute_result"
    }
   ],
   "source": [
    "function moneyflowindex(ohlcv, n=14, h=\"High\", l=\"Low\", c=\"Close\", v=\"Volume\")\n",
    "    hi=ohlcv[h]\n",
    "    lo=ohlcv[l]\n",
    "    cl=ohlcv[c]\n",
    "    volume=ohlcv[v]\n",
    "    typical=(hi.+lo.+cl)./3\n",
    "    diff=typical.-lag(typical)\n",
    "    positive=convert(Array{Real,1},[i[2][1]>0?i[2][1]:0 for i in diff])\n",
    "    negative=convert(Array{Real,1},[i[2][1]<0?abs(i[2][1]):0 for i in diff])\n",
    "    pflow=TimeArray(diff.timestamp,positive,[\"Positive\"]).*volume\n",
    "    nflow=TimeArray(diff.timestamp,negative,[\"Negative\"]).*volume\n",
    "    psum=moving(pflow,sum,n)\n",
    "    nsum=moving(nflow,sum,n)\n",
    "    flowsum=psum.+nsum\n",
    "    re=psum./flowsum\n",
    "    TimeArray(re.timestamp, re.values, [\"mfi\"], ohlcv.meta)\n",
    "end"
   ]
  },
  {
   "cell_type": "code",
   "execution_count": 472,
   "metadata": {
    "collapsed": false
   },
   "outputs": [
    {
     "name": "stderr",
     "output_type": "stream",
     "text": [
      "WARNING: Method definition chaikinmoneyflow(Any) in module Main at In[418]:2 overwritten at In[472]:2.\n",
      "WARNING: Method definition chaikinmoneyflow(Any, Any) in module Main at In[418]:2 overwritten at In[472]:2.\n",
      "WARNING: Method definition chaikinmoneyflow(Any, Any, Any) in module Main at In[418]:2 overwritten at In[472]:2.\n",
      "WARNING: Method definition chaikinmoneyflow(Any, Any, Any, Any) in module Main at In[418]:2 overwritten at In[472]:2.\n",
      "WARNING: Method definition chaikinmoneyflow(Any, Any, Any, Any, Any) in module Main at In[418]:2 overwritten at In[472]:2.\n",
      "WARNING: Method definition chaikinmoneyflow(Any, Any, Any, Any, Any, Any) in module Main at In[418]:2 overwritten at In[472]:2.\n"
     ]
    },
    {
     "data": {
      "text/plain": [
       "chaikinmoneyflow (generic function with 6 methods)"
      ]
     },
     "execution_count": 472,
     "metadata": {},
     "output_type": "execute_result"
    }
   ],
   "source": [
    "function chaikinmoneyflow(ohlcv, n=20, h=\"High\", l=\"Low\", c=\"Close\", v=\"Volume\")\n",
    "    hi=ohlcv[h]\n",
    "    lo=ohlcv[l]\n",
    "    cl=ohlcv[c]\n",
    "    volume=ohlcv[v]\n",
    "    moneyflowvolume = ((cl.-lo).-(hi.-cl))./(hi.-lo).*volume\n",
    "    moneyflowsum=moving(moneyflowvolume,sum,n)\n",
    "    volumesum=moving(volume,sum,n)\n",
    "    re=moneyflowsum./volumesum\n",
    "    TimeArray(re.timestamp, re.values, [\"cmf\"], ohlcv.meta)\n",
    "end"
   ]
  },
  {
   "cell_type": "code",
   "execution_count": 473,
   "metadata": {
    "collapsed": false
   },
   "outputs": [
    {
     "name": "stderr",
     "output_type": "stream",
     "text": [
      "WARNING: Method definition overlaps(Array{T<:Any, 1}, Array{T<:Any, 1}) in module Main at In[419]:2 overwritten at In[473]:2.\n"
     ]
    },
    {
     "data": {
      "text/plain": [
       "overlaps (generic function with 1 method)"
      ]
     },
     "execution_count": 473,
     "metadata": {},
     "output_type": "execute_result"
    }
   ],
   "source": [
    "function overlaps(t1::Vector, t2::Vector)\n",
    "    i = j = 1\n",
    "    idx1 = Int[]\n",
    "    idx2 = Int[]\n",
    "    while i <= length(t1) && j <= length(t2)\n",
    "        if t1[i] > t2[j]\n",
    "            j += 1\n",
    "        elseif t1[i] < t2[j]\n",
    "            i += 1\n",
    "        else\n",
    "            push!(idx1, i)\n",
    "            push!(idx2, j)\n",
    "            i += 1\n",
    "            j += 1\n",
    "        end\n",
    "    end\n",
    "    (idx1, idx2)        \n",
    "end"
   ]
  },
  {
   "cell_type": "code",
   "execution_count": 474,
   "metadata": {
    "collapsed": false
   },
   "outputs": [
    {
     "name": "stderr",
     "output_type": "stream",
     "text": [
      "WARNING: Method definition mergetimearray(Any, Any) in module Main at In[420]:2 overwritten at In[474]:2.\n"
     ]
    },
    {
     "data": {
      "text/plain": [
       "mergetimearray (generic function with 1 method)"
      ]
     },
     "execution_count": 474,
     "metadata": {},
     "output_type": "execute_result"
    }
   ],
   "source": [
    "function mergetimearray(ta1, ta2)\n",
    "    idx1, idx2 = overlaps(ta1.timestamp, ta2.timestamp)\n",
    "    vals = [ta1[idx1].values ta2[idx2].values]\n",
    "    TimeArray(ta1[idx1].timestamp, vals, [ta1.colnames; ta2.colnames])\n",
    "end"
   ]
  },
  {
   "cell_type": "code",
   "execution_count": 475,
   "metadata": {
    "collapsed": false
   },
   "outputs": [
    {
     "name": "stderr",
     "output_type": "stream",
     "text": [
      "WARNING: Method definition pricerangeindex(Any) in module Main at In[421]:2 overwritten at In[475]:2.\n",
      "WARNING: Method definition pricerangeindex(Any, Any) in module Main at In[421]:2 overwritten at In[475]:2.\n"
     ]
    },
    {
     "data": {
      "text/plain": [
       "pricerangeindex (generic function with 2 methods)"
      ]
     },
     "execution_count": 475,
     "metadata": {},
     "output_type": "execute_result"
    }
   ],
   "source": [
    "function pricerangeindex(ta, n=14+1)\n",
    "    high=moving(ta, maximum, n)\n",
    "    low=moving(ta, minimum, n)\n",
    "    lh=merge(low, high, col_names = [\"min\", \"max\"])\n",
    "    lh2=lh\n",
    "    for i=1:n-1\n",
    "        lh2=lead(lh2)\n",
    "    end\n",
    "    ranges=mergetimearray(ta,lh2)\n",
    "    index=[Real((i[2][1]-i[2][2])/(i[2][3]-i[2][2])) for i in ranges]\n",
    "    TimeArray(ranges.timestamp, index, [\"pricerange\"])\n",
    "end"
   ]
  },
  {
   "cell_type": "code",
   "execution_count": 476,
   "metadata": {
    "collapsed": false
   },
   "outputs": [
    {
     "name": "stderr",
     "output_type": "stream",
     "text": [
      "WARNING: Method definition bollingerbands2(TimeSeries.TimeArray{#T<:Any, #N<:Any, M<:Any}, Int64, Real) in module Main at In[422]:2 overwritten at In[476]:2.\n"
     ]
    },
    {
     "data": {
      "text/plain": [
       "bollingerbands2 (generic function with 1 method)"
      ]
     },
     "execution_count": 476,
     "metadata": {},
     "output_type": "execute_result"
    }
   ],
   "source": [
    "function bollingerbands2{T,N}(ta::TimeArray{T,N}, ma::Int, width::Real)\n",
    "    tama   = sma(ta, ma)\n",
    "    upband = tama .+ moving(ta, std, ma) .* width .* sqrt((ma-1)/ma) # take out Bessel correction, per algorithm\n",
    "    dnband = tama .- moving(ta, std, ma) .* width .* sqrt((ma-1)/ma)\n",
    "    bands  =  merge(upband, dnband) \n",
    "    merge(bands, tama, col_names = [\"up\", \"down\", \"mean\"])\n",
    "end"
   ]
  },
  {
   "cell_type": "code",
   "execution_count": 477,
   "metadata": {
    "collapsed": false
   },
   "outputs": [
    {
     "name": "stderr",
     "output_type": "stream",
     "text": [
      "WARNING: Method definition bollingerbands_deviation(Any) in module Main at In[423]:2 overwritten at In[477]:2.\n",
      "WARNING: Method definition bollingerbands_deviation(Any, Any) in module Main at In[423]:2 overwritten at In[477]:2.\n",
      "WARNING: Method definition bollingerbands_deviation(Any, Any, Any) in module Main at In[423]:2 overwritten at In[477]:2.\n"
     ]
    },
    {
     "data": {
      "text/plain": [
       "bollingerbands_deviation (generic function with 3 methods)"
      ]
     },
     "execution_count": 477,
     "metadata": {},
     "output_type": "execute_result"
    }
   ],
   "source": [
    "function bollingerbands_deviation(ta, n=20, width=2)\n",
    "    bbands=bollingerbands2(ta,n,width)\n",
    "    bbprice=mergetimearray(bbands,ta)\n",
    "    bbstd=(bbands.values[:,1].-bbands.values[:,3])./2\n",
    "    bbdev=(bbprice.values[:,4].-bbands.values[:,3])./(bbands.values[:,1].-bbands.values[:,3])\n",
    "    TimeArray(bbarray.timestamp, [bbdev bbstd], [\"bbdev\", \"bbstd\"])\n",
    "end"
   ]
  },
  {
   "cell_type": "code",
   "execution_count": 478,
   "metadata": {
    "collapsed": false
   },
   "outputs": [
    {
     "name": "stderr",
     "output_type": "stream",
     "text": [
      "WARNING: Method definition moneyflowdeviation(Any, Any) in module Main at In[424]:2 overwritten at In[478]:2.\n"
     ]
    },
    {
     "data": {
      "text/plain": [
       "moneyflowdeviation (generic function with 1 method)"
      ]
     },
     "execution_count": 478,
     "metadata": {},
     "output_type": "execute_result"
    }
   ],
   "source": [
    "function moneyflowdeviation(rsi, mfi)\n",
    "    rm=mergetimearray(rsi,mfi)\n",
    "    mfdev=TimeArray(rm.timestamp,rm.values[:,2]-rm.values[:,1],[\"moneyflowdev\"])\n",
    "    mfdevema=ema(mfdev,6)\n",
    "    TimeArray(mfdevema.timestamp,mfdevema.values,[\"mfdev\"])\n",
    "end"
   ]
  },
  {
   "cell_type": "code",
   "execution_count": 479,
   "metadata": {
    "collapsed": false
   },
   "outputs": [],
   "source": [
    "# Financial data sets\n",
    "url1=\"http://real-chart.finance.yahoo.com/table.csv?s=TQQQ&a=00&b=1&c=2015&d=04&e=1&f=2016&g=d&ignore=.csv\";\n",
    "url2=\"https://www.quandl.com/api/v3/datasets/GOOG/NASDAQ_TQQQ.csv?api_key=VKyXNok9WfyAwAHtZBCR&start_date=2015-01-01&end_date=2016-05-01\";"
   ]
  },
  {
   "cell_type": "code",
   "execution_count": 480,
   "metadata": {
    "collapsed": false
   },
   "outputs": [
    {
     "data": {
      "text/plain": [
       "334x5 TimeSeries.TimeArray{Float64,2,DataType} 2015-01-02 to 2016-04-29\n",
       "\n",
       "             Open      High      Low       Close     Volume         \n",
       "2015-01-02 | 98.85     100.13    95.16     96.65     2546416        \n",
       "2015-01-05 | 95.25     95.6      91.5      92.3      2646208        \n",
       "2015-01-06 | 92.63     93.17     87.37     88.64     3513403        \n",
       "2015-01-07 | 90.33     92.64     89.72     92.05     2863876        \n",
       "⋮\n",
       "2016-04-26 | 101.95    102.57    99.02     99.97     2213535        \n",
       "2016-04-27 | 96.94     98.19     95.06     97.57     3784992        \n",
       "2016-04-28 | 97.89     99.57     93.44     94.11     3322624        \n",
       "2016-04-29 | 93.79     94.56     90.3      92.61     3979704        \n"
      ]
     },
     "execution_count": 480,
     "metadata": {},
     "output_type": "execute_result"
    }
   ],
   "source": [
    "# tqqq=yahoo(url1)\n",
    "tqqq=quandl(url2)"
   ]
  },
  {
   "cell_type": "code",
   "execution_count": 481,
   "metadata": {
    "collapsed": false
   },
   "outputs": [
    {
     "ename": "LoadError",
     "evalue": "LoadError: MethodError: no method matching .*(::TimeSeries.TimeArray{Real,1,DataType}, ::TimeSeries.TimeArray{Float64,1,DataType})\nClosest candidates are:\n  .*{T}(!Matched::TimeSeries.TimeArray{T,2,M}, ::TimeSeries.TimeArray{T,1,M})\n  .*{T,N}(::TimeSeries.TimeArray{T,N,M}, !Matched::TimeSeries.TimeArray{T,N,M})\n  .*{T,N}(::TimeSeries.TimeArray{T,N,M}, !Matched::Union{Float64,Int64})\n  ...\nwhile loading In[481], in expression starting on line 5",
     "output_type": "error",
     "traceback": [
      "LoadError: MethodError: no method matching .*(::TimeSeries.TimeArray{Real,1,DataType}, ::TimeSeries.TimeArray{Float64,1,DataType})\nClosest candidates are:\n  .*{T}(!Matched::TimeSeries.TimeArray{T,2,M}, ::TimeSeries.TimeArray{T,1,M})\n  .*{T,N}(::TimeSeries.TimeArray{T,N,M}, !Matched::TimeSeries.TimeArray{T,N,M})\n  .*{T,N}(::TimeSeries.TimeArray{T,N,M}, !Matched::Union{Float64,Int64})\n  ...\nwhile loading In[481], in expression starting on line 5",
      "",
      " in moneyflowindex(::TimeSeries.TimeArray{Float64,2,DataType}, ::Int64, ::ASCIIString, ::ASCIIString, ::ASCIIString, ::ASCIIString) at ./In[471]:10",
      " in moneyflowindex(::TimeSeries.TimeArray{Float64,2,DataType}) at ./In[471]:2",
      " [inlined code] from ./essentials.jl:82",
      " in include_string(::ASCIIString, ::ASCIIString) at ./loading.jl:371"
     ]
    }
   ],
   "source": [
    "ta=tqqq[\"Close\"];\n",
    "atrarray=averagetruerange(tqqq);\n",
    "rsiarray=rsi(ta)./100;\n",
    "macdarray=macd2(ta);\n",
    "mfiarray=moneyflowindex(tqqq);\n",
    "cmfarray=chaikinmoneyflow(tqqq);\n",
    "bbarray=bollingerbands_deviation(ta);\n",
    "mfdevarray=moneyflowdeviation(rsiarray, mfiarray);\n",
    "rangeindexarray=pricerangeindex(ta);"
   ]
  },
  {
   "cell_type": "code",
   "execution_count": 482,
   "metadata": {
    "collapsed": false
   },
   "outputs": [
    {
     "data": {
      "image/png": "[encoded data removed]",
      "image/svg+xml": [
       "<?xml version=\"1.0\" encoding=\"utf-8\" standalone=\"no\"?>\n",
       "<!DOCTYPE svg PUBLIC \"-//W3C//DTD SVG 1.1//EN\"\n",
       "  \"http://www.w3.org/Graphics/SVG/1.1/DTD/svg11.dtd\">\n",
       "<!-- Created with matplotlib (http://matplotlib.org/) -->\n",
       "<svg height=\"381pt\" version=\"1.1\" viewBox=\"0 0 482 381\" width=\"482pt\" xmlns=\"http://www.w3.org/2000/svg\" xmlns:xlink=\"http://www.w3.org/1999/xlink\">\n",
       " <defs>\n",
       "  <style type=\"text/css\">\n",
       "*{stroke-linecap:butt;stroke-linejoin:round;}\n",
       "  </style>\n",
       " </defs>\n",
       " <g id=\"figure_1\">\n",
       "  <g id=\"patch_1\">\n",
       "   <path d=\"\n",
       "M0 381.421\n",
       "L482.419 381.421\n",
       "L482.419 0\n",
       "L0 0\n",
       "z\n",
       "\" style=\"fill:#ffffff;\"/>\n",
       "  </g>\n",
       "  <g id=\"axes_1\">\n",
       "   <g id=\"patch_2\">\n",
       "    <path d=\"\n",
       "M28.8194 358.607\n",
       "L475.219 358.607\n",
       "L475.219 13.0069\n",
       "L28.8194 13.0069\n",
       "z\n",
       "\" style=\"fill:#ffffff;\"/>\n",
       "   </g>\n",
       "   <g id=\"line2d_1\">\n",
       "    <path clip-path=\"url(#pae17aef170)\" d=\"\n",
       "M28.8194 172.981\n",
       "L34.7714 117.345\n",
       "L40.7234 21.8462\n",
       "L58.5794 13.0069\n",
       "L64.5314 52.4856\n",
       "L70.4834 78.3731\n",
       "L76.4354 89.5042\n",
       "L82.3874 269.535\n",
       "L100.243 341.212\n",
       "L106.195 358.607\n",
       "L112.147 355.877\n",
       "L118.099 358.607\n",
       "L124.051 358.607\n",
       "L147.859 358.607\n",
       "L153.811 267.543\n",
       "L159.763 358.607\n",
       "L165.715 345.099\n",
       "L183.571 234.295\n",
       "L189.523 358.607\n",
       "L195.475 353.223\n",
       "L201.427 290.198\n",
       "L207.379 295.671\n",
       "L225.235 358.607\n",
       "L231.187 212.353\n",
       "L237.139 220.736\n",
       "L243.091 236.739\n",
       "L249.043 231.815\n",
       "L266.899 284.748\n",
       "L272.851 358.607\n",
       "L278.803 349.759\n",
       "L284.755 358.607\n",
       "L290.707 358.607\n",
       "L308.563 356.713\n",
       "L314.515 358.607\n",
       "L320.467 343.302\n",
       "L326.419 353.268\n",
       "L332.371 333.336\n",
       "L350.227 292.049\n",
       "L356.179 260.728\n",
       "L362.131 345.668\n",
       "L368.083 346.771\n",
       "L391.891 358.607\n",
       "L397.843 317.75\n",
       "L403.795 244.689\n",
       "L409.747 273.529\n",
       "L415.699 109.621\n",
       "L433.555 172.588\n",
       "L439.507 307.656\n",
       "L445.459 68.4791\n",
       "L451.411 210.589\n",
       "L457.363 166.775\n",
       "L475.219 176.377\" style=\"fill:none;stroke:#0000ff;stroke-linecap:square;\"/>\n",
       "   </g>\n",
       "   <g id=\"matplotlib.axis_1\">\n",
       "    <g id=\"xtick_1\">\n",
       "     <g id=\"line2d_2\">\n",
       "      <defs>\n",
       "       <path d=\"\n",
       "M0 0\n",
       "L0 -4\" id=\"m93b0483c22\" style=\"stroke:#000000;stroke-width:0.5;\"/>\n",
       "      </defs>\n",
       "      <g>\n",
       "       <use style=\"stroke:#000000;stroke-width:0.5;\" x=\"76.4353749994\" xlink:href=\"#m93b0483c22\" y=\"358.606875\"/>\n",
       "      </g>\n",
       "     </g>\n",
       "     <g id=\"line2d_3\">\n",
       "      <defs>\n",
       "       <path d=\"\n",
       "M0 0\n",
       "L0 4\" id=\"m741efc42ff\" style=\"stroke:#000000;stroke-width:0.5;\"/>\n",
       "      </defs>\n",
       "      <g>\n",
       "       <use style=\"stroke:#000000;stroke-width:0.5;\" x=\"76.4353749994\" xlink:href=\"#m741efc42ff\" y=\"13.006875\"/>\n",
       "      </g>\n",
       "     </g>\n",
       "     <g id=\"text_1\">\n",
       "      <!-- Feb 04 2016 -->\n",
       "      <defs>\n",
       "       <path id=\"DejaVuSans-20\"/>\n",
       "       <path d=\"\n",
       "M12.4062 8.29688\n",
       "L28.5156 8.29688\n",
       "L28.5156 63.9219\n",
       "L10.9844 60.4062\n",
       "L10.9844 69.3906\n",
       "L28.4219 72.9062\n",
       "L38.2812 72.9062\n",
       "L38.2812 8.29688\n",
       "L54.3906 8.29688\n",
       "L54.3906 0\n",
       "L12.4062 0\n",
       "z\n",
       "\" id=\"DejaVuSans-31\"/>\n",
       "       <path d=\"\n",
       "M31.7812 66.4062\n",
       "Q24.1719 66.4062 20.3281 58.9062\n",
       "Q16.5 51.4219 16.5 36.375\n",
       "Q16.5 21.3906 20.3281 13.8906\n",
       "Q24.1719 6.39062 31.7812 6.39062\n",
       "Q39.4531 6.39062 43.2812 13.8906\n",
       "Q47.125 21.3906 47.125 36.375\n",
       "Q47.125 51.4219 43.2812 58.9062\n",
       "Q39.4531 66.4062 31.7812 66.4062\n",
       "M31.7812 74.2188\n",
       "Q44.0469 74.2188 50.5156 64.5156\n",
       "Q56.9844 54.8281 56.9844 36.375\n",
       "Q56.9844 17.9688 50.5156 8.26562\n",
       "Q44.0469 -1.42188 31.7812 -1.42188\n",
       "Q19.5312 -1.42188 13.0625 8.26562\n",
       "Q6.59375 17.9688 6.59375 36.375\n",
       "Q6.59375 54.8281 13.0625 64.5156\n",
       "Q19.5312 74.2188 31.7812 74.2188\" id=\"DejaVuSans-30\"/>\n",
       "       <path d=\"\n",
       "M9.8125 72.9062\n",
       "L51.7031 72.9062\n",
       "L51.7031 64.5938\n",
       "L19.6719 64.5938\n",
       "L19.6719 43.1094\n",
       "L48.5781 43.1094\n",
       "L48.5781 34.8125\n",
       "L19.6719 34.8125\n",
       "L19.6719 0\n",
       "L9.8125 0\n",
       "z\n",
       "\" id=\"DejaVuSans-46\"/>\n",
       "       <path d=\"\n",
       "M19.1875 8.29688\n",
       "L53.6094 8.29688\n",
       "L53.6094 0\n",
       "L7.32812 0\n",
       "L7.32812 8.29688\n",
       "Q12.9375 14.1094 22.625 23.8906\n",
       "Q32.3281 33.6875 34.8125 36.5312\n",
       "Q39.5469 41.8438 41.4219 45.5312\n",
       "Q43.3125 49.2188 43.3125 52.7812\n",
       "Q43.3125 58.5938 39.2344 62.25\n",
       "Q35.1562 65.9219 28.6094 65.9219\n",
       "Q23.9688 65.9219 18.8125 64.3125\n",
       "Q13.6719 62.7031 7.8125 59.4219\n",
       "L7.8125 69.3906\n",
       "Q13.7656 71.7812 18.9375 73\n",
       "Q24.125 74.2188 28.4219 74.2188\n",
       "Q39.75 74.2188 46.4844 68.5469\n",
       "Q53.2188 62.8906 53.2188 53.4219\n",
       "Q53.2188 48.9219 51.5312 44.8906\n",
       "Q49.8594 40.875 45.4062 35.4062\n",
       "Q44.1875 33.9844 37.6406 27.2188\n",
       "Q31.1094 20.4531 19.1875 8.29688\" id=\"DejaVuSans-32\"/>\n",
       "       <path d=\"\n",
       "M37.7969 64.3125\n",
       "L12.8906 25.3906\n",
       "L37.7969 25.3906\n",
       "z\n",
       "\n",
       "M35.2031 72.9062\n",
       "L47.6094 72.9062\n",
       "L47.6094 25.3906\n",
       "L58.0156 25.3906\n",
       "L58.0156 17.1875\n",
       "L47.6094 17.1875\n",
       "L47.6094 0\n",
       "L37.7969 0\n",
       "L37.7969 17.1875\n",
       "L4.89062 17.1875\n",
       "L4.89062 26.7031\n",
       "z\n",
       "\" id=\"DejaVuSans-34\"/>\n",
       "       <path d=\"\n",
       "M33.0156 40.375\n",
       "Q26.375 40.375 22.4844 35.8281\n",
       "Q18.6094 31.2969 18.6094 23.3906\n",
       "Q18.6094 15.5312 22.4844 10.9531\n",
       "Q26.375 6.39062 33.0156 6.39062\n",
       "Q39.6562 6.39062 43.5312 10.9531\n",
       "Q47.4062 15.5312 47.4062 23.3906\n",
       "Q47.4062 31.2969 43.5312 35.8281\n",
       "Q39.6562 40.375 33.0156 40.375\n",
       "M52.5938 71.2969\n",
       "L52.5938 62.3125\n",
       "Q48.875 64.0625 45.0938 64.9844\n",
       "Q41.3125 65.9219 37.5938 65.9219\n",
       "Q27.8281 65.9219 22.6719 59.3281\n",
       "Q17.5312 52.7344 16.7969 39.4062\n",
       "Q19.6719 43.6562 24.0156 45.9219\n",
       "Q28.375 48.1875 33.5938 48.1875\n",
       "Q44.5781 48.1875 50.9531 41.5156\n",
       "Q57.3281 34.8594 57.3281 23.3906\n",
       "Q57.3281 12.1562 50.6875 5.35938\n",
       "Q44.0469 -1.42188 33.0156 -1.42188\n",
       "Q20.3594 -1.42188 13.6719 8.26562\n",
       "Q6.98438 17.9688 6.98438 36.375\n",
       "Q6.98438 53.6562 15.1875 63.9375\n",
       "Q23.3906 74.2188 37.2031 74.2188\n",
       "Q40.9219 74.2188 44.7031 73.4844\n",
       "Q48.4844 72.75 52.5938 71.2969\" id=\"DejaVuSans-36\"/>\n",
       "       <path d=\"\n",
       "M56.2031 29.5938\n",
       "L56.2031 25.2031\n",
       "L14.8906 25.2031\n",
       "Q15.4844 15.9219 20.4844 11.0625\n",
       "Q25.4844 6.20312 34.4219 6.20312\n",
       "Q39.5938 6.20312 44.4531 7.46875\n",
       "Q49.3125 8.73438 54.1094 11.2812\n",
       "L54.1094 2.78125\n",
       "Q49.2656 0.734375 44.1875 -0.34375\n",
       "Q39.1094 -1.42188 33.8906 -1.42188\n",
       "Q20.7969 -1.42188 13.1562 6.1875\n",
       "Q5.51562 13.8125 5.51562 26.8125\n",
       "Q5.51562 40.2344 12.7656 48.1094\n",
       "Q20.0156 56 32.3281 56\n",
       "Q43.3594 56 49.7812 48.8906\n",
       "Q56.2031 41.7969 56.2031 29.5938\n",
       "M47.2188 32.2344\n",
       "Q47.125 39.5938 43.0938 43.9844\n",
       "Q39.0625 48.3906 32.4219 48.3906\n",
       "Q24.9062 48.3906 20.3906 44.1406\n",
       "Q15.875 39.8906 15.1875 32.1719\n",
       "z\n",
       "\" id=\"DejaVuSans-65\"/>\n",
       "       <path d=\"\n",
       "M48.6875 27.2969\n",
       "Q48.6875 37.2031 44.6094 42.8438\n",
       "Q40.5312 48.4844 33.4062 48.4844\n",
       "Q26.2656 48.4844 22.1875 42.8438\n",
       "Q18.1094 37.2031 18.1094 27.2969\n",
       "Q18.1094 17.3906 22.1875 11.75\n",
       "Q26.2656 6.10938 33.4062 6.10938\n",
       "Q40.5312 6.10938 44.6094 11.75\n",
       "Q48.6875 17.3906 48.6875 27.2969\n",
       "M18.1094 46.3906\n",
       "Q20.9531 51.2656 25.2656 53.625\n",
       "Q29.5938 56 35.5938 56\n",
       "Q45.5625 56 51.7812 48.0938\n",
       "Q58.0156 40.1875 58.0156 27.2969\n",
       "Q58.0156 14.4062 51.7812 6.48438\n",
       "Q45.5625 -1.42188 35.5938 -1.42188\n",
       "Q29.5938 -1.42188 25.2656 0.953125\n",
       "Q20.9531 3.32812 18.1094 8.20312\n",
       "L18.1094 0\n",
       "L9.07812 0\n",
       "L9.07812 75.9844\n",
       "L18.1094 75.9844\n",
       "z\n",
       "\" id=\"DejaVuSans-62\"/>\n",
       "      </defs>\n",
       "      <g transform=\"translate(39.4725624994 371.725)scale(0.12 -0.12)\">\n",
       "       <use xlink:href=\"#DejaVuSans-46\"/>\n",
       "       <use x=\"52.01953125\" xlink:href=\"#DejaVuSans-65\"/>\n",
       "       <use x=\"113.54296875\" xlink:href=\"#DejaVuSans-62\"/>\n",
       "       <use x=\"177.01953125\" xlink:href=\"#DejaVuSans-20\"/>\n",
       "       <use x=\"208.806640625\" xlink:href=\"#DejaVuSans-30\"/>\n",
       "       <use x=\"272.4296875\" xlink:href=\"#DejaVuSans-34\"/>\n",
       "       <use x=\"336.052734375\" xlink:href=\"#DejaVuSans-20\"/>\n",
       "       <use x=\"367.83984375\" xlink:href=\"#DejaVuSans-32\"/>\n",
       "       <use x=\"431.462890625\" xlink:href=\"#DejaVuSans-30\"/>\n",
       "       <use x=\"495.0859375\" xlink:href=\"#DejaVuSans-31\"/>\n",
       "       <use x=\"558.708984375\" xlink:href=\"#DejaVuSans-36\"/>\n",
       "      </g>\n",
       "     </g>\n",
       "    </g>\n",
       "    <g id=\"xtick_2\">\n",
       "     <g id=\"line2d_4\">\n",
       "      <g>\n",
       "       <use style=\"stroke:#000000;stroke-width:0.5;\" x=\"159.763374999\" xlink:href=\"#m93b0483c22\" y=\"358.606875\"/>\n",
       "      </g>\n",
       "     </g>\n",
       "     <g id=\"line2d_5\">\n",
       "      <g>\n",
       "       <use style=\"stroke:#000000;stroke-width:0.5;\" x=\"159.763374999\" xlink:href=\"#m741efc42ff\" y=\"13.006875\"/>\n",
       "      </g>\n",
       "     </g>\n",
       "     <g id=\"text_2\">\n",
       "      <!-- Feb 18 2016 -->\n",
       "      <defs>\n",
       "       <path d=\"\n",
       "M31.7812 34.625\n",
       "Q24.75 34.625 20.7188 30.8594\n",
       "Q16.7031 27.0938 16.7031 20.5156\n",
       "Q16.7031 13.9219 20.7188 10.1562\n",
       "Q24.75 6.39062 31.7812 6.39062\n",
       "Q38.8125 6.39062 42.8594 10.1719\n",
       "Q46.9219 13.9688 46.9219 20.5156\n",
       "Q46.9219 27.0938 42.8906 30.8594\n",
       "Q38.875 34.625 31.7812 34.625\n",
       "M21.9219 38.8125\n",
       "Q15.5781 40.375 12.0312 44.7188\n",
       "Q8.5 49.0781 8.5 55.3281\n",
       "Q8.5 64.0625 14.7188 69.1406\n",
       "Q20.9531 74.2188 31.7812 74.2188\n",
       "Q42.6719 74.2188 48.875 69.1406\n",
       "Q55.0781 64.0625 55.0781 55.3281\n",
       "Q55.0781 49.0781 51.5312 44.7188\n",
       "Q48 40.375 41.7031 38.8125\n",
       "Q48.8281 37.1562 52.7969 32.3125\n",
       "Q56.7812 27.4844 56.7812 20.5156\n",
       "Q56.7812 9.90625 50.3125 4.23438\n",
       "Q43.8438 -1.42188 31.7812 -1.42188\n",
       "Q19.7344 -1.42188 13.25 4.23438\n",
       "Q6.78125 9.90625 6.78125 20.5156\n",
       "Q6.78125 27.4844 10.7812 32.3125\n",
       "Q14.7969 37.1562 21.9219 38.8125\n",
       "M18.3125 54.3906\n",
       "Q18.3125 48.7344 21.8438 45.5625\n",
       "Q25.3906 42.3906 31.7812 42.3906\n",
       "Q38.1406 42.3906 41.7188 45.5625\n",
       "Q45.3125 48.7344 45.3125 54.3906\n",
       "Q45.3125 60.0625 41.7188 63.2344\n",
       "Q38.1406 66.4062 31.7812 66.4062\n",
       "Q25.3906 66.4062 21.8438 63.2344\n",
       "Q18.3125 60.0625 18.3125 54.3906\" id=\"DejaVuSans-38\"/>\n",
       "      </defs>\n",
       "      <g transform=\"translate(122.800562499 371.725)scale(0.12 -0.12)\">\n",
       "       <use xlink:href=\"#DejaVuSans-46\"/>\n",
       "       <use x=\"52.01953125\" xlink:href=\"#DejaVuSans-65\"/>\n",
       "       <use x=\"113.54296875\" xlink:href=\"#DejaVuSans-62\"/>\n",
       "       <use x=\"177.01953125\" xlink:href=\"#DejaVuSans-20\"/>\n",
       "       <use x=\"208.806640625\" xlink:href=\"#DejaVuSans-31\"/>\n",
       "       <use x=\"272.4296875\" xlink:href=\"#DejaVuSans-38\"/>\n",
       "       <use x=\"336.052734375\" xlink:href=\"#DejaVuSans-20\"/>\n",
       "       <use x=\"367.83984375\" xlink:href=\"#DejaVuSans-32\"/>\n",
       "       <use x=\"431.462890625\" xlink:href=\"#DejaVuSans-30\"/>\n",
       "       <use x=\"495.0859375\" xlink:href=\"#DejaVuSans-31\"/>\n",
       "       <use x=\"558.708984375\" xlink:href=\"#DejaVuSans-36\"/>\n",
       "      </g>\n",
       "     </g>\n",
       "    </g>\n",
       "    <g id=\"xtick_3\">\n",
       "     <g id=\"line2d_6\">\n",
       "      <g>\n",
       "       <use style=\"stroke:#000000;stroke-width:0.5;\" x=\"243.091375\" xlink:href=\"#m93b0483c22\" y=\"358.606875\"/>\n",
       "      </g>\n",
       "     </g>\n",
       "     <g id=\"line2d_7\">\n",
       "      <g>\n",
       "       <use style=\"stroke:#000000;stroke-width:0.5;\" x=\"243.091375\" xlink:href=\"#m741efc42ff\" y=\"13.006875\"/>\n",
       "      </g>\n",
       "     </g>\n",
       "     <g id=\"text_3\">\n",
       "      <!-- Mar 03 2016 -->\n",
       "      <defs>\n",
       "       <path d=\"\n",
       "M9.8125 72.9062\n",
       "L24.5156 72.9062\n",
       "L43.1094 23.2969\n",
       "L61.8125 72.9062\n",
       "L76.5156 72.9062\n",
       "L76.5156 0\n",
       "L66.8906 0\n",
       "L66.8906 64.0156\n",
       "L48.0938 14.0156\n",
       "L38.1875 14.0156\n",
       "L19.3906 64.0156\n",
       "L19.3906 0\n",
       "L9.8125 0\n",
       "z\n",
       "\" id=\"DejaVuSans-4d\"/>\n",
       "       <path d=\"\n",
       "M40.5781 39.3125\n",
       "Q47.6562 37.7969 51.625 33\n",
       "Q55.6094 28.2188 55.6094 21.1875\n",
       "Q55.6094 10.4062 48.1875 4.48438\n",
       "Q40.7656 -1.42188 27.0938 -1.42188\n",
       "Q22.5156 -1.42188 17.6562 -0.515625\n",
       "Q12.7969 0.390625 7.625 2.20312\n",
       "L7.625 11.7188\n",
       "Q11.7188 9.32812 16.5938 8.10938\n",
       "Q21.4844 6.89062 26.8125 6.89062\n",
       "Q36.0781 6.89062 40.9375 10.5469\n",
       "Q45.7969 14.2031 45.7969 21.1875\n",
       "Q45.7969 27.6406 41.2812 31.2656\n",
       "Q36.7656 34.9062 28.7188 34.9062\n",
       "L20.2188 34.9062\n",
       "L20.2188 43.0156\n",
       "L29.1094 43.0156\n",
       "Q36.375 43.0156 40.2344 45.9219\n",
       "Q44.0938 48.8281 44.0938 54.2969\n",
       "Q44.0938 59.9062 40.1094 62.9062\n",
       "Q36.1406 65.9219 28.7188 65.9219\n",
       "Q24.6562 65.9219 20.0156 65.0312\n",
       "Q15.375 64.1562 9.8125 62.3125\n",
       "L9.8125 71.0938\n",
       "Q15.4375 72.6562 20.3438 73.4375\n",
       "Q25.25 74.2188 29.5938 74.2188\n",
       "Q40.8281 74.2188 47.3594 69.1094\n",
       "Q53.9062 64.0156 53.9062 55.3281\n",
       "Q53.9062 49.2656 50.4375 45.0938\n",
       "Q46.9688 40.9219 40.5781 39.3125\" id=\"DejaVuSans-33\"/>\n",
       "       <path d=\"\n",
       "M41.1094 46.2969\n",
       "Q39.5938 47.1719 37.8125 47.5781\n",
       "Q36.0312 48 33.8906 48\n",
       "Q26.2656 48 22.1875 43.0469\n",
       "Q18.1094 38.0938 18.1094 28.8125\n",
       "L18.1094 0\n",
       "L9.07812 0\n",
       "L9.07812 54.6875\n",
       "L18.1094 54.6875\n",
       "L18.1094 46.1875\n",
       "Q20.9531 51.1719 25.4844 53.5781\n",
       "Q30.0312 56 36.5312 56\n",
       "Q37.4531 56 38.5781 55.875\n",
       "Q39.7031 55.7656 41.0625 55.5156\n",
       "z\n",
       "\" id=\"DejaVuSans-72\"/>\n",
       "       <path d=\"\n",
       "M34.2812 27.4844\n",
       "Q23.3906 27.4844 19.1875 25\n",
       "Q14.9844 22.5156 14.9844 16.5\n",
       "Q14.9844 11.7188 18.1406 8.90625\n",
       "Q21.2969 6.10938 26.7031 6.10938\n",
       "Q34.1875 6.10938 38.7031 11.4062\n",
       "Q43.2188 16.7031 43.2188 25.4844\n",
       "L43.2188 27.4844\n",
       "z\n",
       "\n",
       "M52.2031 31.2031\n",
       "L52.2031 0\n",
       "L43.2188 0\n",
       "L43.2188 8.29688\n",
       "Q40.1406 3.32812 35.5469 0.953125\n",
       "Q30.9531 -1.42188 24.3125 -1.42188\n",
       "Q15.9219 -1.42188 10.9531 3.29688\n",
       "Q6 8.01562 6 15.9219\n",
       "Q6 25.1406 12.1719 29.8281\n",
       "Q18.3594 34.5156 30.6094 34.5156\n",
       "L43.2188 34.5156\n",
       "L43.2188 35.4062\n",
       "Q43.2188 41.6094 39.1406 45\n",
       "Q35.0625 48.3906 27.6875 48.3906\n",
       "Q23 48.3906 18.5469 47.2656\n",
       "Q14.1094 46.1406 10.0156 43.8906\n",
       "L10.0156 52.2031\n",
       "Q14.9375 54.1094 19.5781 55.0469\n",
       "Q24.2188 56 28.6094 56\n",
       "Q40.4844 56 46.3438 49.8438\n",
       "Q52.2031 43.7031 52.2031 31.2031\" id=\"DejaVuSans-61\"/>\n",
       "      </defs>\n",
       "      <g transform=\"translate(205.430125 371.725)scale(0.12 -0.12)\">\n",
       "       <use xlink:href=\"#DejaVuSans-4d\"/>\n",
       "       <use x=\"86.279296875\" xlink:href=\"#DejaVuSans-61\"/>\n",
       "       <use x=\"147.55859375\" xlink:href=\"#DejaVuSans-72\"/>\n",
       "       <use x=\"188.671875\" xlink:href=\"#DejaVuSans-20\"/>\n",
       "       <use x=\"220.458984375\" xlink:href=\"#DejaVuSans-30\"/>\n",
       "       <use x=\"284.08203125\" xlink:href=\"#DejaVuSans-33\"/>\n",
       "       <use x=\"347.705078125\" xlink:href=\"#DejaVuSans-20\"/>\n",
       "       <use x=\"379.4921875\" xlink:href=\"#DejaVuSans-32\"/>\n",
       "       <use x=\"443.115234375\" xlink:href=\"#DejaVuSans-30\"/>\n",
       "       <use x=\"506.73828125\" xlink:href=\"#DejaVuSans-31\"/>\n",
       "       <use x=\"570.361328125\" xlink:href=\"#DejaVuSans-36\"/>\n",
       "      </g>\n",
       "     </g>\n",
       "    </g>\n",
       "    <g id=\"xtick_4\">\n",
       "     <g id=\"line2d_8\">\n",
       "      <g>\n",
       "       <use style=\"stroke:#000000;stroke-width:0.5;\" x=\"326.419375\" xlink:href=\"#m93b0483c22\" y=\"358.606875\"/>\n",
       "      </g>\n",
       "     </g>\n",
       "     <g id=\"line2d_9\">\n",
       "      <g>\n",
       "       <use style=\"stroke:#000000;stroke-width:0.5;\" x=\"326.419375\" xlink:href=\"#m741efc42ff\" y=\"13.006875\"/>\n",
       "      </g>\n",
       "     </g>\n",
       "     <g id=\"text_4\">\n",
       "      <!-- Mar 17 2016 -->\n",
       "      <defs>\n",
       "       <path d=\"\n",
       "M8.20312 72.9062\n",
       "L55.0781 72.9062\n",
       "L55.0781 68.7031\n",
       "L28.6094 0\n",
       "L18.3125 0\n",
       "L43.2188 64.5938\n",
       "L8.20312 64.5938\n",
       "z\n",
       "\" id=\"DejaVuSans-37\"/>\n",
       "      </defs>\n",
       "      <g transform=\"translate(288.758125 371.725)scale(0.12 -0.12)\">\n",
       "       <use xlink:href=\"#DejaVuSans-4d\"/>\n",
       "       <use x=\"86.279296875\" xlink:href=\"#DejaVuSans-61\"/>\n",
       "       <use x=\"147.55859375\" xlink:href=\"#DejaVuSans-72\"/>\n",
       "       <use x=\"188.671875\" xlink:href=\"#DejaVuSans-20\"/>\n",
       "       <use x=\"220.458984375\" xlink:href=\"#DejaVuSans-31\"/>\n",
       "       <use x=\"284.08203125\" xlink:href=\"#DejaVuSans-37\"/>\n",
       "       <use x=\"347.705078125\" xlink:href=\"#DejaVuSans-20\"/>\n",
       "       <use x=\"379.4921875\" xlink:href=\"#DejaVuSans-32\"/>\n",
       "       <use x=\"443.115234375\" xlink:href=\"#DejaVuSans-30\"/>\n",
       "       <use x=\"506.73828125\" xlink:href=\"#DejaVuSans-31\"/>\n",
       "       <use x=\"570.361328125\" xlink:href=\"#DejaVuSans-36\"/>\n",
       "      </g>\n",
       "     </g>\n",
       "    </g>\n",
       "    <g id=\"xtick_5\">\n",
       "     <g id=\"line2d_10\">\n",
       "      <g>\n",
       "       <use style=\"stroke:#000000;stroke-width:0.5;\" x=\"409.747374999\" xlink:href=\"#m93b0483c22\" y=\"358.606875\"/>\n",
       "      </g>\n",
       "     </g>\n",
       "     <g id=\"line2d_11\">\n",
       "      <g>\n",
       "       <use style=\"stroke:#000000;stroke-width:0.5;\" x=\"409.747374999\" xlink:href=\"#m741efc42ff\" y=\"13.006875\"/>\n",
       "      </g>\n",
       "     </g>\n",
       "     <g id=\"text_5\">\n",
       "      <!-- Mar 31 2016 -->\n",
       "      <g transform=\"translate(372.086124999 371.725)scale(0.12 -0.12)\">\n",
       "       <use xlink:href=\"#DejaVuSans-4d\"/>\n",
       "       <use x=\"86.279296875\" xlink:href=\"#DejaVuSans-61\"/>\n",
       "       <use x=\"147.55859375\" xlink:href=\"#DejaVuSans-72\"/>\n",
       "       <use x=\"188.671875\" xlink:href=\"#DejaVuSans-20\"/>\n",
       "       <use x=\"220.458984375\" xlink:href=\"#DejaVuSans-33\"/>\n",
       "       <use x=\"284.08203125\" xlink:href=\"#DejaVuSans-31\"/>\n",
       "       <use x=\"347.705078125\" xlink:href=\"#DejaVuSans-20\"/>\n",
       "       <use x=\"379.4921875\" xlink:href=\"#DejaVuSans-32\"/>\n",
       "       <use x=\"443.115234375\" xlink:href=\"#DejaVuSans-30\"/>\n",
       "       <use x=\"506.73828125\" xlink:href=\"#DejaVuSans-31\"/>\n",
       "       <use x=\"570.361328125\" xlink:href=\"#DejaVuSans-36\"/>\n",
       "      </g>\n",
       "     </g>\n",
       "    </g>\n",
       "   </g>\n",
       "   <g id=\"matplotlib.axis_2\">\n",
       "    <g id=\"ytick_1\">\n",
       "     <g id=\"line2d_12\">\n",
       "      <defs>\n",
       "       <path d=\"\n",
       "M0 0\n",
       "L4 0\" id=\"m728421d6d4\" style=\"stroke:#000000;stroke-width:0.5;\"/>\n",
       "      </defs>\n",
       "      <g>\n",
       "       <use style=\"stroke:#000000;stroke-width:0.5;\" x=\"28.819375\" xlink:href=\"#m728421d6d4\" y=\"358.606875\"/>\n",
       "      </g>\n",
       "     </g>\n",
       "     <g id=\"line2d_13\">\n",
       "      <defs>\n",
       "       <path d=\"\n",
       "M0 0\n",
       "L-4 0\" id=\"mcb0005524f\" style=\"stroke:#000000;stroke-width:0.5;\"/>\n",
       "      </defs>\n",
       "      <g>\n",
       "       <use style=\"stroke:#000000;stroke-width:0.5;\" x=\"475.219375\" xlink:href=\"#mcb0005524f\" y=\"358.606875\"/>\n",
       "      </g>\n",
       "     </g>\n",
       "     <g id=\"text_6\">\n",
       "      <!-- 0.0 -->\n",
       "      <defs>\n",
       "       <path d=\"\n",
       "M10.6875 12.4062\n",
       "L21 12.4062\n",
       "L21 0\n",
       "L10.6875 0\n",
       "z\n",
       "\" id=\"DejaVuSans-2e\"/>\n",
       "      </defs>\n",
       "      <g transform=\"translate(7.32375 361.918125)scale(0.12 -0.12)\">\n",
       "       <use xlink:href=\"#DejaVuSans-30\"/>\n",
       "       <use x=\"63.623046875\" xlink:href=\"#DejaVuSans-2e\"/>\n",
       "       <use x=\"95.41015625\" xlink:href=\"#DejaVuSans-30\"/>\n",
       "      </g>\n",
       "     </g>\n",
       "    </g>\n",
       "    <g id=\"ytick_2\">\n",
       "     <g id=\"line2d_14\">\n",
       "      <g>\n",
       "       <use style=\"stroke:#000000;stroke-width:0.5;\" x=\"28.819375\" xlink:href=\"#m728421d6d4\" y=\"289.486875\"/>\n",
       "      </g>\n",
       "     </g>\n",
       "     <g id=\"line2d_15\">\n",
       "      <g>\n",
       "       <use style=\"stroke:#000000;stroke-width:0.5;\" x=\"475.219375\" xlink:href=\"#mcb0005524f\" y=\"289.486875\"/>\n",
       "      </g>\n",
       "     </g>\n",
       "     <g id=\"text_7\">\n",
       "      <!-- 0.2 -->\n",
       "      <g transform=\"translate(7.72875 292.798125)scale(0.12 -0.12)\">\n",
       "       <use xlink:href=\"#DejaVuSans-30\"/>\n",
       "       <use x=\"63.623046875\" xlink:href=\"#DejaVuSans-2e\"/>\n",
       "       <use x=\"95.41015625\" xlink:href=\"#DejaVuSans-32\"/>\n",
       "      </g>\n",
       "     </g>\n",
       "    </g>\n",
       "    <g id=\"ytick_3\">\n",
       "     <g id=\"line2d_16\">\n",
       "      <g>\n",
       "       <use style=\"stroke:#000000;stroke-width:0.5;\" x=\"28.819375\" xlink:href=\"#m728421d6d4\" y=\"220.366875\"/>\n",
       "      </g>\n",
       "     </g>\n",
       "     <g id=\"line2d_17\">\n",
       "      <g>\n",
       "       <use style=\"stroke:#000000;stroke-width:0.5;\" x=\"475.219375\" xlink:href=\"#mcb0005524f\" y=\"220.366875\"/>\n",
       "      </g>\n",
       "     </g>\n",
       "     <g id=\"text_8\">\n",
       "      <!-- 0.4 -->\n",
       "      <g transform=\"translate(7.2 223.678125)scale(0.12 -0.12)\">\n",
       "       <use xlink:href=\"#DejaVuSans-30\"/>\n",
       "       <use x=\"63.623046875\" xlink:href=\"#DejaVuSans-2e\"/>\n",
       "       <use x=\"95.41015625\" xlink:href=\"#DejaVuSans-34\"/>\n",
       "      </g>\n",
       "     </g>\n",
       "    </g>\n",
       "    <g id=\"ytick_4\">\n",
       "     <g id=\"line2d_18\">\n",
       "      <g>\n",
       "       <use style=\"stroke:#000000;stroke-width:0.5;\" x=\"28.819375\" xlink:href=\"#m728421d6d4\" y=\"151.246875\"/>\n",
       "      </g>\n",
       "     </g>\n",
       "     <g id=\"line2d_19\">\n",
       "      <g>\n",
       "       <use style=\"stroke:#000000;stroke-width:0.5;\" x=\"475.219375\" xlink:href=\"#mcb0005524f\" y=\"151.246875\"/>\n",
       "      </g>\n",
       "     </g>\n",
       "     <g id=\"text_9\">\n",
       "      <!-- 0.6 -->\n",
       "      <g transform=\"translate(7.2825 154.558125)scale(0.12 -0.12)\">\n",
       "       <use xlink:href=\"#DejaVuSans-30\"/>\n",
       "       <use x=\"63.623046875\" xlink:href=\"#DejaVuSans-2e\"/>\n",
       "       <use x=\"95.41015625\" xlink:href=\"#DejaVuSans-36\"/>\n",
       "      </g>\n",
       "     </g>\n",
       "    </g>\n",
       "    <g id=\"ytick_5\">\n",
       "     <g id=\"line2d_20\">\n",
       "      <g>\n",
       "       <use style=\"stroke:#000000;stroke-width:0.5;\" x=\"28.819375\" xlink:href=\"#m728421d6d4\" y=\"82.126875\"/>\n",
       "      </g>\n",
       "     </g>\n",
       "     <g id=\"line2d_21\">\n",
       "      <g>\n",
       "       <use style=\"stroke:#000000;stroke-width:0.5;\" x=\"475.219375\" xlink:href=\"#mcb0005524f\" y=\"82.126875\"/>\n",
       "      </g>\n",
       "     </g>\n",
       "     <g id=\"text_10\">\n",
       "      <!-- 0.8 -->\n",
       "      <g transform=\"translate(7.348125 85.438125)scale(0.12 -0.12)\">\n",
       "       <use xlink:href=\"#DejaVuSans-30\"/>\n",
       "       <use x=\"63.623046875\" xlink:href=\"#DejaVuSans-2e\"/>\n",
       "       <use x=\"95.41015625\" xlink:href=\"#DejaVuSans-38\"/>\n",
       "      </g>\n",
       "     </g>\n",
       "    </g>\n",
       "    <g id=\"ytick_6\">\n",
       "     <g id=\"line2d_22\">\n",
       "      <g>\n",
       "       <use style=\"stroke:#000000;stroke-width:0.5;\" x=\"28.819375\" xlink:href=\"#m728421d6d4\" y=\"13.006875\"/>\n",
       "      </g>\n",
       "     </g>\n",
       "     <g id=\"line2d_23\">\n",
       "      <g>\n",
       "       <use style=\"stroke:#000000;stroke-width:0.5;\" x=\"475.219375\" xlink:href=\"#mcb0005524f\" y=\"13.006875\"/>\n",
       "      </g>\n",
       "     </g>\n",
       "     <g id=\"text_11\">\n",
       "      <!-- 1.0 -->\n",
       "      <g transform=\"translate(7.850625 16.318125)scale(0.12 -0.12)\">\n",
       "       <use xlink:href=\"#DejaVuSans-31\"/>\n",
       "       <use x=\"63.623046875\" xlink:href=\"#DejaVuSans-2e\"/>\n",
       "       <use x=\"95.41015625\" xlink:href=\"#DejaVuSans-30\"/>\n",
       "      </g>\n",
       "     </g>\n",
       "    </g>\n",
       "   </g>\n",
       "   <g id=\"patch_3\">\n",
       "    <path d=\"\n",
       "M28.8194 13.0069\n",
       "L475.219 13.0069\" style=\"fill:none;stroke:#000000;\"/>\n",
       "   </g>\n",
       "   <g id=\"patch_4\">\n",
       "    <path d=\"\n",
       "M475.219 358.607\n",
       "L475.219 13.0069\" style=\"fill:none;stroke:#000000;\"/>\n",
       "   </g>\n",
       "   <g id=\"patch_5\">\n",
       "    <path d=\"\n",
       "M28.8194 358.607\n",
       "L475.219 358.607\" style=\"fill:none;stroke:#000000;\"/>\n",
       "   </g>\n",
       "   <g id=\"patch_6\">\n",
       "    <path d=\"\n",
       "M28.8194 358.607\n",
       "L28.8194 13.0069\" style=\"fill:none;stroke:#000000;\"/>\n",
       "   </g>\n",
       "  </g>\n",
       " </g>\n",
       " <defs>\n",
       "  <clipPath id=\"pae17aef170\">\n",
       "   <rect height=\"345.6\" width=\"446.4\" x=\"28.819375\" y=\"13.006875\"/>\n",
       "  </clipPath>\n",
       " </defs>\n",
       "</svg>\n"
      ],
      "text/plain": [
       "PyPlot.Figure(PyObject <matplotlib.figure.Figure object at 0x7f536b1c8d50>)"
      ]
     },
     "metadata": {},
     "output_type": "display_data"
    },
    {
     "data": {
      "text/plain": [
       "1-element Array{Any,1}:\n",
       " PyObject <matplotlib.lines.Line2D object at 0x7f536b100650>"
      ]
     },
     "execution_count": 482,
     "metadata": {},
     "output_type": "execute_result"
    }
   ],
   "source": [
    "plot(rangeindexarray.timestamp,rangeindexarray.values)"
   ]
  },
  {
   "cell_type": "code",
   "execution_count": 483,
   "metadata": {
    "collapsed": false
   },
   "outputs": [
    {
     "data": {
      "text/plain": [
       "320x2 TimeSeries.TimeArray{Float64,2,DataType} 2015-01-23 to 2016-04-29\n",
       "\n",
       "             Close     atr     \n",
       "2015-01-23 | 99.7      4.9621  \n",
       "2015-01-26 | 99.48     4.7563  \n",
       "2015-01-27 | 91.78     5.048   \n",
       "2015-01-28 | 90.2      5.1274  \n",
       "⋮\n",
       "2016-04-26 | 99.97     3.6652  \n",
       "2016-04-27 | 97.57     3.7541  \n",
       "2016-04-28 | 94.11     3.9238  \n",
       "2016-04-29 | 92.61     3.9478  \n"
      ]
     },
     "execution_count": 483,
     "metadata": {},
     "output_type": "execute_result"
    }
   ],
   "source": [
    "featurearray=mergetimearray(ta,atrarray)"
   ]
  },
  {
   "cell_type": "code",
   "execution_count": 484,
   "metadata": {
    "collapsed": false
   },
   "outputs": [
    {
     "data": {
      "text/plain": [
       "320x3 TimeSeries.TimeArray{Float64,2,DataType} 2015-01-23 to 2016-04-29\n",
       "\n",
       "             Close     atr     rsi     \n",
       "2015-01-23 | 99.7      4.9621  0.5478  \n",
       "2015-01-26 | 99.48     4.7563  0.5404  \n",
       "2015-01-27 | 91.78     5.048   0.3494  \n",
       "2015-01-28 | 90.2      5.1274  0.3224  \n",
       "⋮\n",
       "2016-04-26 | 99.97     3.6652  0.3406  \n",
       "2016-04-27 | 97.57     3.7541  0.277   \n",
       "2016-04-28 | 94.11     3.9238  0.2113  \n",
       "2016-04-29 | 92.61     3.9478  0.1889  \n"
      ]
     },
     "execution_count": 484,
     "metadata": {},
     "output_type": "execute_result"
    }
   ],
   "source": [
    "featurearray=mergetimearray(featurearray,rsiarray)"
   ]
  },
  {
   "cell_type": "code",
   "execution_count": 485,
   "metadata": {
    "collapsed": false
   },
   "outputs": [
    {
     "data": {
      "text/plain": [
       "66x4 TimeSeries.TimeArray{Float64,2,DataType} 2016-01-27 to 2016-04-29\n",
       "\n",
       "             Close     atr     rsi     mfi     \n",
       "2016-01-27 | 81.37     6.7333  0.347   0.218   \n",
       "2016-01-28 | 84.58     6.6016  0.4172  0.2624  \n",
       "2016-01-29 | 90.09     6.5258  0.5196  0.3363  \n",
       "2016-02-01 | 90.6      6.3518  0.5284  0.368   \n",
       "⋮\n",
       "2016-04-26 | 99.97     3.6652  0.3406  0.3119  \n",
       "2016-04-27 | 97.57     3.7541  0.277   0.3072  \n",
       "2016-04-28 | 94.11     3.9238  0.2113  0.2927  \n",
       "2016-04-29 | 92.61     3.9478  0.1889  0.247   \n"
      ]
     },
     "execution_count": 485,
     "metadata": {},
     "output_type": "execute_result"
    }
   ],
   "source": [
    "featurearray=mergetimearray(featurearray,mfiarray)"
   ]
  },
  {
   "cell_type": "code",
   "execution_count": 486,
   "metadata": {
    "collapsed": false
   },
   "outputs": [
    {
     "data": {
      "text/plain": [
       "61x5 TimeSeries.TimeArray{Float64,2,DataType} 2016-02-03 to 2016-04-29\n",
       "\n",
       "             Close     atr     rsi     mfi     mfdev   \n",
       "2016-02-03 | 83.65     6.4368  0.4073  0.3188  -0.0905 \n",
       "2016-02-04 | 83.5      6.327   0.4048  0.324   -0.0774 \n",
       "2016-02-05 | 74.91     6.5551  0.2848  0.3515  -0.0295 \n",
       "2016-02-08 | 71.49     6.6276  0.2507  0.2685  -0.0101 \n",
       "⋮\n",
       "2016-04-26 | 99.97     3.6652  0.3406  0.3119  -0.0008 \n",
       "2016-04-27 | 97.57     3.7541  0.277   0.3072  0.008   \n",
       "2016-04-28 | 94.11     3.9238  0.2113  0.2927  0.029   \n",
       "2016-04-29 | 92.61     3.9478  0.1889  0.247   0.0373  \n"
      ]
     },
     "execution_count": 486,
     "metadata": {},
     "output_type": "execute_result"
    }
   ],
   "source": [
    "featurearray=mergetimearray(featurearray,mfdevarray)"
   ]
  },
  {
   "cell_type": "code",
   "execution_count": 487,
   "metadata": {
    "collapsed": false
   },
   "outputs": [
    {
     "data": {
      "text/plain": [
       "61x6 TimeSeries.TimeArray{Float64,2,DataType} 2016-02-03 to 2016-04-29\n",
       "\n",
       "             Close     atr     rsi     mfi     mfdev   cmf     \n",
       "2016-02-03 | 83.65     6.4368  0.4073  0.3188  -0.0905 0.0319  \n",
       "2016-02-04 | 83.5      6.327   0.4048  0.324   -0.0774 0.0301  \n",
       "2016-02-05 | 74.91     6.5551  0.2848  0.3515  -0.0295 0.0281  \n",
       "2016-02-08 | 71.49     6.6276  0.2507  0.2685  -0.0101 0.1154  \n",
       "⋮\n",
       "2016-04-26 | 99.97     3.6652  0.3406  0.3119  -0.0008 0.0027  \n",
       "2016-04-27 | 97.57     3.7541  0.277   0.3072  0.008   0.0752  \n",
       "2016-04-28 | 94.11     3.9238  0.2113  0.2927  0.029   0.0577  \n",
       "2016-04-29 | 92.61     3.9478  0.1889  0.247   0.0373  0.0105  \n"
      ]
     },
     "execution_count": 487,
     "metadata": {},
     "output_type": "execute_result"
    }
   ],
   "source": [
    "featurearray=mergetimearray(featurearray,cmfarray)"
   ]
  },
  {
   "cell_type": "code",
   "execution_count": 488,
   "metadata": {
    "collapsed": false
   },
   "outputs": [
    {
     "data": {
      "text/plain": [
       "61x8 TimeSeries.TimeArray{Real,2,DataType} 2016-02-03 to 2016-04-29\n",
       "\n",
       "             Close     atr     rsi     mfi     mfdev   cmf     bbdev   bbstd   \n",
       "2016-02-03 | 83.65     6.4368  0.4073  0.3188  -0.0905 0.0319  -0.3988 5.4524  \n",
       "2016-02-04 | 83.5      6.327   0.4048  0.324   -0.0774 0.0301  -0.4147 4.2219  \n",
       "2016-02-05 | 74.91     6.5551  0.2848  0.3515  -0.0295 0.0281  -1.1871 4.6994  \n",
       "2016-02-08 | 71.49     6.6276  0.2507  0.2685  -0.0101 0.1154  -1.2337 5.5047  \n",
       "⋮\n",
       "2016-04-26 | 99.97     3.6652  0.3406  0.3119  -0.0008 0.0027  -0.8205 2.4738  \n",
       "2016-04-27 | 97.57     3.7541  0.277   0.3072  0.008   0.0752  -1.0885 2.8424  \n",
       "2016-04-28 | 94.11     3.9238  0.2113  0.2927  0.029   0.0577  -1.3074 3.5312  \n",
       "2016-04-29 | 92.61     3.9478  0.1889  0.247   0.0373  0.0105  -1.2044 4.1821  \n"
      ]
     },
     "execution_count": 488,
     "metadata": {},
     "output_type": "execute_result"
    }
   ],
   "source": [
    "featurearray=mergetimearray(featurearray,bbarray)"
   ]
  },
  {
   "cell_type": "code",
   "execution_count": 489,
   "metadata": {
    "collapsed": false
   },
   "outputs": [
    {
     "data": {
      "text/plain": [
       "61x10 TimeSeries.TimeArray{Real,2,DataType} 2016-02-03 to 2016-04-29\n",
       "\n",
       "             Close     atr     rsi     mfi     mfdev   cmf     bbdev   bbstd   macd    signal  \n",
       "2016-02-03 | 83.65     6.4368  0.4073  0.3188  -0.0905 0.0319  -0.3988 5.4524  -5.7618 -6.6163 \n",
       "2016-02-04 | 83.5      6.327   0.4048  0.324   -0.0774 0.0301  -0.4147 4.2219  -5.6344 -6.4199 \n",
       "2016-02-05 | 74.91     6.5551  0.2848  0.3515  -0.0295 0.0281  -1.1871 4.6994  -6.1556 -6.3671 \n",
       "2016-02-08 | 71.49     6.6276  0.2507  0.2685  -0.0101 0.1154  -1.2337 5.5047  -6.7667 -6.447  \n",
       "⋮\n",
       "2016-04-26 | 99.97     3.6652  0.3406  0.3119  -0.0008 0.0027  -0.8205 2.4738  1.64    2.6678  \n",
       "2016-04-27 | 97.57     3.7541  0.277   0.3072  0.008   0.0752  -1.0885 2.8424  1.055   2.3452  \n",
       "2016-04-28 | 94.11     3.9238  0.2113  0.2927  0.029   0.0577  -1.3074 3.5312  0.3086  1.9379  \n",
       "2016-04-29 | 92.61     3.9478  0.1889  0.247   0.0373  0.0105  -1.2044 4.1821  -0.3994 1.4704  \n"
      ]
     },
     "execution_count": 489,
     "metadata": {},
     "output_type": "execute_result"
    }
   ],
   "source": [
    "featurearray=mergetimearray(featurearray,macdarray)"
   ]
  },
  {
   "cell_type": "code",
   "execution_count": 490,
   "metadata": {
    "collapsed": false
   },
   "outputs": [
    {
     "data": {
      "text/plain": [
       "47x11 TimeSeries.TimeArray{Real,2,DataType} 2016-02-03 to 2016-04-11\n",
       "\n",
       "             Close     atr     rsi     mfi     mfdev   cmf     bbdev   bbstd   macd    signal  pricerange  \n",
       "2016-02-03 | 83.65     6.4368  0.4073  0.3188  -0.0905 0.0319  -0.3988 5.4524  -5.7618 -6.6163 0.8109      \n",
       "2016-02-04 | 83.5      6.327   0.4048  0.324   -0.0774 0.0301  -0.4147 4.2219  -5.6344 -6.4199 0.7787      \n",
       "2016-02-05 | 74.91     6.5551  0.2848  0.3515  -0.0295 0.0281  -1.1871 4.6994  -6.1556 -6.3671 0.2577      \n",
       "2016-02-08 | 71.49     6.6276  0.2507  0.2685  -0.0101 0.1154  -1.2337 5.5047  -6.7667 -6.447  0.0503      \n",
       "⋮\n",
       "2016-04-06 | 106.56    3.6884  0.6977  0.7551  0.0927  0.318   0.8832  4.54    3.9734  3.534   0.8395      \n",
       "2016-04-07 | 101.96    3.8485  0.5304  0.6342  0.0959  0.2292  0.3401  4.1529  3.7181  3.5708  0.4283      \n",
       "2016-04-08 | 101.72    3.85    0.5229  0.6172  0.0955  0.2133  0.2775  3.576   3.4565  3.548   0.5551      \n",
       "2016-04-11 | 100.63    3.8607  0.4866  0.5961  0.0995  0.1248  0.0865  3.3601  3.1253  3.4634  0.5273      \n"
      ]
     },
     "execution_count": 490,
     "metadata": {},
     "output_type": "execute_result"
    }
   ],
   "source": [
    "featurearray=mergetimearray(featurearray,rangeindexarray)"
   ]
  }
 ],
 "metadata": {
  "kernelspec": {
   "display_name": "Julia 0.5.0-dev",
   "language": "julia",
   "name": "julia-0.5"
  },
  "language_info": {
   "file_extension": ".jl",
   "mimetype": "application/julia",
   "name": "julia",
   "version": "0.5.0"
  }
 },
 "nbformat": 4,
 "nbformat_minor": 0
}
