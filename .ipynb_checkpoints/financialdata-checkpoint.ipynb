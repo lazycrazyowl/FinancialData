{
 "cells": [
  {
   "cell_type": "code",
   "execution_count": null,
   "metadata": {
    "collapsed": true
   },
   "outputs": [],
   "source": [
    "Pkg.add(\"PyPlot\")\n",
    "Pkg.add(\"TimeSeries\")\n",
    "Pkg.add(\"MarketTechnicals\")\n",
    "Pkg.add(\"DecisionTree\")\n",
    "Pkg.add(\"ScikitLearn\")\n",
    "Pkg.update()"
   ]
  },
  {
   "cell_type": "code",
   "execution_count": null,
   "metadata": {
    "collapsed": false
   },
   "outputs": [],
   "source": [
    "using Requests\n",
    "using DataFrames\n",
    "using TimeSeries\n",
    "using MarketTechnicals\n",
    "using PyPlot\n",
    "using DecisionTree\n",
    "using ScikitLearn"
   ]
  },
  {
   "cell_type": "code",
   "execution_count": null,
   "metadata": {
    "collapsed": false
   },
   "outputs": [],
   "source": [
    "function getcsv(url)\n",
    "    # with error checking\n",
    "    r = Requests.get_streaming(url; timeout = 30.0)\n",
    "    if r.response.status / 100 != 2\n",
    "        error(\"Error downloading data\")\n",
    "    end\n",
    "    df = readtable(r)\n",
    "end\n",
    "\n",
    "function yahoo(url)\n",
    "    df = getcsv(url)\n",
    "    timestamp = Date[Date(i) for i in df[1]] # parse dates\n",
    "    colnames=AbstractString[string(i) for i in DataFrames.names(df)]\n",
    "    if length(colnames)>=7\n",
    "        pop!(colnames)\n",
    "        deleteat!(colnames,1)\n",
    "    end\n",
    "    dataarray=convert(Array, df[1:end,[2,3,4,7,6]])\n",
    "    ta=TimeArray(timestamp,dataarray,colnames)\n",
    "end\n",
    "\n",
    "function quandl(url)\n",
    "    df = getcsv(url)\n",
    "    timestamp = Date[Date(i) for i in df[1]] # parse dates\n",
    "    colnames=AbstractString[string(i) for i in DataFrames.names(df)]\n",
    "    if length(colnames)>=6\n",
    "        deleteat!(colnames,1)\n",
    "    end\n",
    "    dataarray=convert(Array, df[2:end])\n",
    "    ta=TimeArray(timestamp,dataarray,colnames)\n",
    "end"
   ]
  },
  {
   "cell_type": "code",
   "execution_count": null,
   "metadata": {
    "collapsed": false
   },
   "outputs": [],
   "source": [
    "function averagetruerange(ohlc, n=14, h=\"High\", l=\"Low\", c=\"Close\")\n",
    "    highs = merge(ohlc[h], lag(ohlc[c]))\n",
    "    lows = merge(ohlc[l], lag(ohlc[c]))\n",
    "    hi=convert(Array{Real,1},[maximum(highs.values[i,:]) for i=1:size(highs.values)[1]])\n",
    "    lo=convert(Array{Real,1},[minimum(lows.values[i,:]) for i=1:size(lows.values)[1]])\n",
    "    truehigh = TimeArray(highs.timestamp, hi, [\"hi\"], highs.meta)\n",
    "    truelow  = TimeArray(lows.timestamp, lo, [\"lo\"], lows.meta)\n",
    "    res = ema(truehigh .- truelow, n, wilder=true)\n",
    "    TimeArray(res.timestamp, res.values, [\"atr\"], ohlc.meta)\n",
    "end"
   ]
  },
  {
   "cell_type": "code",
   "execution_count": null,
   "metadata": {
    "collapsed": false
   },
   "outputs": [],
   "source": [
    "function macd2(ta, fast=12, slow=26, signal=9)\n",
    "    mcd = ema(ta, fast) .- ema(ta, slow)\n",
    "    sig = ema(mcd, signal)\n",
    "    merge(mcd, sig, col_names=[\"macd\", \"signal\"])\n",
    "end"
   ]
  },
  {
   "cell_type": "code",
   "execution_count": null,
   "metadata": {
    "collapsed": false
   },
   "outputs": [],
   "source": [
    "function moneyflowindex(ohlcv, n=14, h=\"High\", l=\"Low\", c=\"Close\", v=\"Volume\")\n",
    "    hi=ohlcv[h]\n",
    "    lo=ohlcv[l]\n",
    "    cl=ohlcv[c]\n",
    "    volume=ohlcv[v]\n",
    "    typical=(hi.+lo.+cl)./3\n",
    "    diff=typical.-lag(typical)\n",
    "    positive=convert(Array{Float64,1},[i[2][1]>0?i[2][1]:0 for i in diff])\n",
    "    negative=convert(Array{Float64,1},[i[2][1]<0?abs(i[2][1]):0 for i in diff])\n",
    "    pflow=TimeArray(diff.timestamp,positive,[\"Positive\"]).*volume\n",
    "    nflow=TimeArray(diff.timestamp,negative,[\"Negative\"]).*volume\n",
    "    psum=moving(pflow,sum,n)\n",
    "    nsum=moving(nflow,sum,n)\n",
    "    flowsum=psum.+nsum\n",
    "    re=psum./flowsum\n",
    "    TimeArray(re.timestamp, re.values, [\"mfi\"], ohlcv.meta)\n",
    "end"
   ]
  },
  {
   "cell_type": "code",
   "execution_count": null,
   "metadata": {
    "collapsed": false
   },
   "outputs": [],
   "source": [
    "function chaikinmoneyflow(ohlcv, n=20, h=\"High\", l=\"Low\", c=\"Close\", v=\"Volume\")\n",
    "    hi=ohlcv[h]\n",
    "    lo=ohlcv[l]\n",
    "    cl=ohlcv[c]\n",
    "    volume=ohlcv[v]\n",
    "    moneyflowvolume = ((cl.-lo).-(hi.-cl))./(hi.-lo).*volume\n",
    "    moneyflowsum=moving(moneyflowvolume,sum,n)\n",
    "    volumesum=moving(volume,sum,n)\n",
    "    re=moneyflowsum./volumesum\n",
    "    TimeArray(re.timestamp, re.values, [\"cmf\"], ohlcv.meta)\n",
    "end"
   ]
  },
  {
   "cell_type": "code",
   "execution_count": null,
   "metadata": {
    "collapsed": false
   },
   "outputs": [],
   "source": [
    "function overlaps(t1::Vector, t2::Vector)\n",
    "    i = j = 1\n",
    "    idx1 = Int[]\n",
    "    idx2 = Int[]\n",
    "    while i <= length(t1) && j <= length(t2)\n",
    "        if t1[i] > t2[j]\n",
    "            j += 1\n",
    "        elseif t1[i] < t2[j]\n",
    "            i += 1\n",
    "        else\n",
    "            push!(idx1, i)\n",
    "            push!(idx2, j)\n",
    "            i += 1\n",
    "            j += 1\n",
    "        end\n",
    "    end\n",
    "    (idx1, idx2)        \n",
    "end"
   ]
  },
  {
   "cell_type": "code",
   "execution_count": null,
   "metadata": {
    "collapsed": false
   },
   "outputs": [],
   "source": [
    "function mergetimearray(ta1, ta2)\n",
    "    idx1, idx2 = overlaps(ta1.timestamp, ta2.timestamp)\n",
    "    vals = [ta1[idx1].values ta2[idx2].values]\n",
    "    TimeArray(ta1[idx1].timestamp, vals, [ta1.colnames; ta2.colnames])\n",
    "end"
   ]
  },
  {
   "cell_type": "code",
   "execution_count": null,
   "metadata": {
    "collapsed": false
   },
   "outputs": [],
   "source": [
    "function pricerangeindex(ta, n=14+1)\n",
    "    high=moving(ta, maximum, n)\n",
    "    low=moving(ta, minimum, n)\n",
    "    lh=merge(low, high, col_names = [\"min\", \"max\"])\n",
    "    lh2=lh\n",
    "    for i=1:n-1\n",
    "        lh2=lead(lh2)\n",
    "    end\n",
    "    ranges=mergetimearray(ta,lh2)\n",
    "    index=[Real((i[2][1]-i[2][2])/(i[2][3]-i[2][2])) for i in ranges]\n",
    "    TimeArray(ranges.timestamp, index, [\"pricerange\"])\n",
    "end"
   ]
  },
  {
   "cell_type": "code",
   "execution_count": null,
   "metadata": {
    "collapsed": false
   },
   "outputs": [],
   "source": [
    "function bollingerbands2{T,N}(ta::TimeArray{T,N}, ma::Int, width::Real)\n",
    "    tama   = sma(ta, ma)\n",
    "    upband = tama .+ moving(ta, std, ma) .* width .* sqrt((ma-1)/ma) # take out Bessel correction, per algorithm\n",
    "    dnband = tama .- moving(ta, std, ma) .* width .* sqrt((ma-1)/ma)\n",
    "    bands  =  merge(upband, dnband) \n",
    "    merge(bands, tama, col_names = [\"up\", \"down\", \"mean\"])\n",
    "end"
   ]
  },
  {
   "cell_type": "code",
   "execution_count": null,
   "metadata": {
    "collapsed": false
   },
   "outputs": [],
   "source": [
    "function bollingerbands_deviation(ta, n=20, width=2)\n",
    "    bbands=bollingerbands2(ta,n,width)\n",
    "    bbprice=mergetimearray(bbands,ta)\n",
    "    bbstd=(bbands.values[:,1].-bbands.values[:,3])./2\n",
    "    bbdev=(bbprice.values[:,4].-bbands.values[:,3])./(bbands.values[:,1].-bbands.values[:,3])\n",
    "    TimeArray(bbands.timestamp, [bbdev bbstd], [\"bbdev\", \"bbstd\"])\n",
    "end"
   ]
  },
  {
   "cell_type": "code",
   "execution_count": null,
   "metadata": {
    "collapsed": false
   },
   "outputs": [],
   "source": [
    "function moneyflow_deviation(rsi, mfi)\n",
    "    rm=mergetimearray(rsi,mfi)\n",
    "    mfdev=TimeArray(rm.timestamp,rm.values[:,2]-rm.values[:,1],[\"moneyflowdev\"])\n",
    "    mfdevema=ema(mfdev,6)\n",
    "    TimeArray(mfdevema.timestamp,mfdevema.values,[\"mfidev\"])\n",
    "end"
   ]
  },
  {
   "cell_type": "code",
   "execution_count": null,
   "metadata": {
    "collapsed": false
   },
   "outputs": [],
   "source": [
    "# Financial data sets\n",
    "url1=\"http://real-chart.finance.yahoo.com/table.csv?s=TQQQ&a=00&b=1&c=2015&d=04&e=5&f=2016&g=d&ignore=.csv\";\n",
    "url2=\"https://www.quandl.com/api/v3/datasets/GOOG/NASDAQ_TQQQ.csv?api_key=VKyXNok9WfyAwAHtZBCR&start_date=2015-01-01&end_date=2016-05-05\";"
   ]
  },
  {
   "cell_type": "code",
   "execution_count": null,
   "metadata": {
    "collapsed": false
   },
   "outputs": [],
   "source": [
    "# tqqq=yahoo(url1)\n",
    "tqqq=quandl(url2)"
   ]
  },
  {
   "cell_type": "code",
   "execution_count": null,
   "metadata": {
    "collapsed": false
   },
   "outputs": [],
   "source": [
    "rsiarray=rsi(ta)./100"
   ]
  },
  {
   "cell_type": "code",
   "execution_count": null,
   "metadata": {
    "collapsed": false
   },
   "outputs": [],
   "source": [
    "ta=tqqq[\"Close\"];\n",
    "atrarray=averagetruerange(tqqq);\n",
    "macdarray=macd2(ta);\n",
    "rsiarray=rsi(ta)./100;\n",
    "mfiarray=moneyflowindex(tqqq);\n",
    "cmfarray=chaikinmoneyflow(tqqq);\n",
    "bbarray=bollingerbands_deviation(ta);\n",
    "mfidevarray=moneyflow_deviation(rsiarray, mfiarray)\n",
    "rangeindexarray=pricerangeindex(ta);"
   ]
  },
  {
   "cell_type": "code",
   "execution_count": null,
   "metadata": {
    "collapsed": false
   },
   "outputs": [],
   "source": [
    "featurearray=mergetimearray(ta,atrarray)"
   ]
  },
  {
   "cell_type": "code",
   "execution_count": null,
   "metadata": {
    "collapsed": false
   },
   "outputs": [],
   "source": [
    "featurearray=mergetimearray(featurearray,rsiarray)"
   ]
  },
  {
   "cell_type": "code",
   "execution_count": null,
   "metadata": {
    "collapsed": false
   },
   "outputs": [],
   "source": [
    "featurearray=mergetimearray(featurearray,mfiarray)"
   ]
  },
  {
   "cell_type": "code",
   "execution_count": null,
   "metadata": {
    "collapsed": false
   },
   "outputs": [],
   "source": [
    "featurearray=mergetimearray(featurearray,mfidevarray)"
   ]
  },
  {
   "cell_type": "code",
   "execution_count": null,
   "metadata": {
    "collapsed": false
   },
   "outputs": [],
   "source": [
    "featurearray=mergetimearray(featurearray,cmfarray)"
   ]
  },
  {
   "cell_type": "code",
   "execution_count": null,
   "metadata": {
    "collapsed": false
   },
   "outputs": [],
   "source": [
    "featurearray=mergetimearray(featurearray,bbarray)"
   ]
  },
  {
   "cell_type": "code",
   "execution_count": null,
   "metadata": {
    "collapsed": false
   },
   "outputs": [],
   "source": [
    "featurearray=mergetimearray(featurearray,macdarray)"
   ]
  },
  {
   "cell_type": "code",
   "execution_count": null,
   "metadata": {
    "collapsed": false
   },
   "outputs": [],
   "source": [
    "featurearray=mergetimearray(featurearray,rangeindexarray)"
   ]
  },
  {
   "cell_type": "code",
   "execution_count": null,
   "metadata": {
    "collapsed": false
   },
   "outputs": [],
   "source": [
    "plot(featurearray.timestamp,featurearray.values[:,1])\n",
    "legend([featurearray.colnames[1]])"
   ]
  },
  {
   "cell_type": "code",
   "execution_count": null,
   "metadata": {
    "collapsed": false
   },
   "outputs": [],
   "source": [
    "plot(featurearray.timestamp,featurearray.values[:,2:end])\n",
    "legend(featurearray.colnames[2:end])"
   ]
  },
  {
   "cell_type": "code",
   "execution_count": null,
   "metadata": {
    "collapsed": false
   },
   "outputs": [],
   "source": [
    "using DecisionTree\n",
    "using ScikitLearn\n",
    "using PyPlot"
   ]
  },
  {
   "cell_type": "code",
   "execution_count": null,
   "metadata": {
    "collapsed": false
   },
   "outputs": [],
   "source": [
    "ntrees=64\n",
    "features=featurearray.values[:,1:10]\n",
    "label=featurearray.values[:,11]\n",
    "model = build_forest(labels,features, 2, ntrees, 5, 0.7)"
   ]
  }
 ],
 "metadata": {
  "kernelspec": {
   "display_name": "Julia 0.5.0-dev",
   "language": "julia",
   "name": "julia-0.5"
  },
  "language_info": {
   "file_extension": ".jl",
   "mimetype": "application/julia",
   "name": "julia",
   "version": "0.5.0"
  }
 },
 "nbformat": 4,
 "nbformat_minor": 0
}
